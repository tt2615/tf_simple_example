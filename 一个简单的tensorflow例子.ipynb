{
 "cells": [
  {
   "cell_type": "markdown",
   "metadata": {},
   "source": [
    "# Tensorflow - Simple Demo"
   ]
  },
  {
   "cell_type": "markdown",
   "metadata": {},
   "source": [
    "tensorflow 三部走 示范\n",
    "\n",
    "学习函数：y = x1 + x2 + 1的系数\n",
    "\n",
    "X: [1,2], y: [1,1], 激活:relu, 目标:(y' - y)^2"
   ]
  },
  {
   "cell_type": "code",
   "execution_count": 1,
   "metadata": {},
   "outputs": [],
   "source": [
    "import tensorflow as tf\n",
    "import numpy as np"
   ]
  },
  {
   "cell_type": "markdown",
   "metadata": {},
   "source": [
    "### 准备数据"
   ]
  },
  {
   "cell_type": "code",
   "execution_count": 2,
   "metadata": {},
   "outputs": [],
   "source": [
    "# y = x1 + x2 + 1 + epsilon\n",
    "\n",
    "data_X = np.random.rand(100,2)\n",
    "data_Y = np.sum(data_X,1) + 1.0\n",
    "data_Y = [[x + 0.1 * np.random.randn()] for x in data_Y]"
   ]
  },
  {
   "cell_type": "code",
   "execution_count": 4,
   "metadata": {},
   "outputs": [],
   "source": [
    "# split into training and testing\n",
    "train_X = data_X[:90]\n",
    "test_X = data_X[90:]\n",
    "train_Y = data_Y[:90]\n",
    "test_Y = data_Y[90:]"
   ]
  },
  {
   "cell_type": "code",
   "execution_count": 5,
   "metadata": {},
   "outputs": [
    {
     "data": {
      "text/plain": [
       "array([[0.96777725, 0.69245966],\n",
       "       [0.59104686, 0.22316762],\n",
       "       [0.66664888, 0.4387968 ],\n",
       "       [0.37486494, 0.58931804],\n",
       "       [0.26720765, 0.9761743 ],\n",
       "       [0.45157517, 0.89284721],\n",
       "       [0.9814972 , 0.90297677],\n",
       "       [0.10828367, 0.29779825],\n",
       "       [0.74274856, 0.34150646],\n",
       "       [0.66867296, 0.84401877]])"
      ]
     },
     "execution_count": 5,
     "metadata": {},
     "output_type": "execute_result"
    }
   ],
   "source": [
    "test_X"
   ]
  },
  {
   "cell_type": "code",
   "execution_count": 6,
   "metadata": {},
   "outputs": [
    {
     "data": {
      "text/plain": [
       "[[2.6607530946115703],\n",
       " [1.7115606422373633],\n",
       " [2.1570880146165186],\n",
       " [1.8321092411072528],\n",
       " [2.1465635402509893],\n",
       " [2.2826174082191146],\n",
       " [2.928477400091539],\n",
       " [1.3974654406360736],\n",
       " [2.124877356028229],\n",
       " [2.5425030179684276]]"
      ]
     },
     "execution_count": 6,
     "metadata": {},
     "output_type": "execute_result"
    }
   ],
   "source": [
    "test_Y"
   ]
  },
  {
   "cell_type": "markdown",
   "metadata": {},
   "source": [
    "### 定义"
   ]
  },
  {
   "cell_type": "code",
   "execution_count": 7,
   "metadata": {},
   "outputs": [],
   "source": [
    "#定义constant\n",
    "b = tf.constant(1, tf.float32)"
   ]
  },
  {
   "cell_type": "code",
   "execution_count": 8,
   "metadata": {},
   "outputs": [
    {
     "data": {
      "text/plain": [
       "<tf.Tensor 'Const:0' shape=() dtype=float32>"
      ]
     },
     "execution_count": 8,
     "metadata": {},
     "output_type": "execute_result"
    }
   ],
   "source": [
    "b"
   ]
  },
  {
   "cell_type": "code",
   "execution_count": 9,
   "metadata": {},
   "outputs": [
    {
     "name": "stdout",
     "output_type": "stream",
     "text": [
      "WARNING:tensorflow:From c:\\users\\wuziq\\appdata\\local\\programs\\python\\python36\\lib\\site-packages\\tensorflow\\python\\framework\\op_def_library.py:263: colocate_with (from tensorflow.python.framework.ops) is deprecated and will be removed in a future version.\n",
      "Instructions for updating:\n",
      "Colocations handled automatically by placer.\n"
     ]
    }
   ],
   "source": [
    "#定义Variable\n",
    "initial_weight = tf.truncated_normal([2,1],stddev=1.0/np.sqrt(1))\n",
    "W = tf.Variable(initial_weight)"
   ]
  },
  {
   "cell_type": "code",
   "execution_count": 10,
   "metadata": {},
   "outputs": [
    {
     "data": {
      "text/plain": [
       "<tf.Variable 'Variable:0' shape=(2, 1) dtype=float32_ref>"
      ]
     },
     "execution_count": 10,
     "metadata": {},
     "output_type": "execute_result"
    }
   ],
   "source": [
    "W"
   ]
  },
  {
   "cell_type": "code",
   "execution_count": 11,
   "metadata": {},
   "outputs": [],
   "source": [
    "#定义数据数据\n",
    "X = tf.placeholder(tf.float32, shape = [None,2])\n",
    "y_true = tf.placeholder(tf.float32, shape = [None,1])  "
   ]
  },
  {
   "cell_type": "code",
   "execution_count": 12,
   "metadata": {},
   "outputs": [
    {
     "data": {
      "text/plain": [
       "<tf.Tensor 'Placeholder:0' shape=(?, 2) dtype=float32>"
      ]
     },
     "execution_count": 12,
     "metadata": {},
     "output_type": "execute_result"
    }
   ],
   "source": [
    "X"
   ]
  },
  {
   "cell_type": "code",
   "execution_count": 13,
   "metadata": {},
   "outputs": [
    {
     "data": {
      "text/plain": [
       "<tf.Tensor 'Placeholder_1:0' shape=(?, 1) dtype=float32>"
      ]
     },
     "execution_count": 13,
     "metadata": {},
     "output_type": "execute_result"
    }
   ],
   "source": [
    "y_true"
   ]
  },
  {
   "cell_type": "markdown",
   "metadata": {},
   "source": [
    "### 建模"
   ]
  },
  {
   "cell_type": "code",
   "execution_count": 14,
   "metadata": {},
   "outputs": [],
   "source": [
    "u = tf.matmul(X, W) + b"
   ]
  },
  {
   "cell_type": "code",
   "execution_count": 15,
   "metadata": {},
   "outputs": [
    {
     "data": {
      "text/plain": [
       "<tf.Tensor 'add:0' shape=(?, 1) dtype=float32>"
      ]
     },
     "execution_count": 15,
     "metadata": {},
     "output_type": "execute_result"
    }
   ],
   "source": [
    "u"
   ]
  },
  {
   "cell_type": "code",
   "execution_count": 16,
   "metadata": {},
   "outputs": [],
   "source": [
    "y = tf.nn.relu(u)"
   ]
  },
  {
   "cell_type": "code",
   "execution_count": 17,
   "metadata": {
    "scrolled": true
   },
   "outputs": [
    {
     "data": {
      "text/plain": [
       "<tf.Tensor 'Relu:0' shape=(?, 1) dtype=float32>"
      ]
     },
     "execution_count": 17,
     "metadata": {},
     "output_type": "execute_result"
    }
   ],
   "source": [
    "y"
   ]
  },
  {
   "cell_type": "code",
   "execution_count": 20,
   "metadata": {},
   "outputs": [],
   "source": [
    "test = y_true-y"
   ]
  },
  {
   "cell_type": "code",
   "execution_count": 21,
   "metadata": {},
   "outputs": [
    {
     "data": {
      "text/plain": [
       "<tf.Tensor 'sub_1:0' shape=(?, 1) dtype=float32>"
      ]
     },
     "execution_count": 21,
     "metadata": {},
     "output_type": "execute_result"
    }
   ],
   "source": [
    "test"
   ]
  },
  {
   "cell_type": "code",
   "execution_count": 22,
   "metadata": {},
   "outputs": [],
   "source": [
    "test2 = tf.square(test)"
   ]
  },
  {
   "cell_type": "code",
   "execution_count": 23,
   "metadata": {},
   "outputs": [
    {
     "data": {
      "text/plain": [
       "<tf.Tensor 'Square_1:0' shape=(?, 1) dtype=float32>"
      ]
     },
     "execution_count": 23,
     "metadata": {},
     "output_type": "execute_result"
    }
   ],
   "source": [
    "test2"
   ]
  },
  {
   "cell_type": "code",
   "execution_count": 18,
   "metadata": {},
   "outputs": [],
   "source": [
    "#objective function\n",
    "J = tf.reduce_sum(tf.square(y_true-y)) "
   ]
  },
  {
   "cell_type": "code",
   "execution_count": 19,
   "metadata": {},
   "outputs": [
    {
     "data": {
      "text/plain": [
       "<tf.Tensor 'Sum:0' shape=() dtype=float32>"
      ]
     },
     "execution_count": 19,
     "metadata": {},
     "output_type": "execute_result"
    }
   ],
   "source": [
    "J"
   ]
  },
  {
   "cell_type": "code",
   "execution_count": 24,
   "metadata": {},
   "outputs": [],
   "source": [
    "#optimizer\n",
    "optimizer = tf.train.AdamOptimizer(learning_rate=0.01)"
   ]
  },
  {
   "cell_type": "code",
   "execution_count": 25,
   "metadata": {},
   "outputs": [],
   "source": [
    "train = optimizer.minimize(J)"
   ]
  },
  {
   "cell_type": "code",
   "execution_count": 26,
   "metadata": {},
   "outputs": [],
   "source": [
    "mse = tf.reduce_mean(tf.square(y_true-y)) "
   ]
  },
  {
   "cell_type": "code",
   "execution_count": 27,
   "metadata": {},
   "outputs": [
    {
     "data": {
      "text/plain": [
       "<tf.Tensor 'Mean:0' shape=() dtype=float32>"
      ]
     },
     "execution_count": 27,
     "metadata": {},
     "output_type": "execute_result"
    }
   ],
   "source": [
    "mse"
   ]
  },
  {
   "cell_type": "markdown",
   "metadata": {},
   "source": [
    "### 运行 "
   ]
  },
  {
   "cell_type": "code",
   "execution_count": 28,
   "metadata": {},
   "outputs": [
    {
     "name": "stdout",
     "output_type": "stream",
     "text": [
      "iteration: 0, loss: 50.333469, mse: 0.404145\n",
      "iteration: 100, loss: 12.623602, mse: 0.094026\n",
      "iteration: 200, loss: 2.813533, mse: 0.022624\n",
      "iteration: 300, loss: 0.969928, mse: 0.007118\n",
      "iteration: 400, loss: 0.780575, mse: 0.004664\n",
      "iteration: 500, loss: 0.769866, mse: 0.004284\n",
      "iteration: 600, loss: 0.769534, mse: 0.004225\n",
      "iteration: 700, loss: 0.769528, mse: 0.004217\n",
      "iteration: 800, loss: 0.769528, mse: 0.004216\n",
      "iteration: 900, loss: 0.769528, mse: 0.004216\n",
      "iteration: 1000, loss: 0.769528, mse: 0.004216\n",
      "iteration: 1100, loss: 0.769528, mse: 0.004216\n",
      "iteration: 1200, loss: 0.769528, mse: 0.004216\n",
      "iteration: 1300, loss: 0.769528, mse: 0.004216\n",
      "iteration: 1400, loss: 0.769528, mse: 0.004216\n",
      "iteration: 1500, loss: 0.769528, mse: 0.004216\n",
      "iteration: 1600, loss: 0.769528, mse: 0.004216\n",
      "iteration: 1700, loss: 0.769528, mse: 0.004216\n",
      "iteration: 1800, loss: 0.769528, mse: 0.004216\n",
      "iteration: 1900, loss: 0.769528, mse: 0.004216\n",
      "[[1.0180275]\n",
      " [0.9706439]]\n"
     ]
    }
   ],
   "source": [
    "#开启一个session并初始化变量\n",
    "with tf.Session() as sess:\n",
    "    sess.run(tf.global_variables_initializer())\n",
    "    \n",
    "    loss_list, error_list = [], []\n",
    "    \n",
    "    #训练\n",
    "    for i in range(2000):\n",
    "        _, loss = sess.run([train, J], {X:train_X, y_true:train_Y})\n",
    "        \n",
    "        #每轮训练之后用测试集评价模型\n",
    "        error = sess.run(mse, {X:test_X, y_true:test_Y})\n",
    "        \n",
    "        #记录loss和error\n",
    "        loss_list.append(loss)\n",
    "        error_list.append(error)\n",
    "        \n",
    "        #打印每轮的训练/评价结果\n",
    "        if i % 100 == 0:\n",
    "            print('iteration: %d, loss: %f, mse: %f' %(i, loss, error))\n",
    "            \n",
    "    #查看weight\n",
    "    weight = sess.run(W) \n",
    "    print(weight)"
   ]
  },
  {
   "cell_type": "code",
   "execution_count": 30,
   "metadata": {},
   "outputs": [
    {
     "data": {
      "image/png": "[encoded data removed]",
      "text/plain": [
       "<Figure size 432x288 with 1 Axes>"
      ]
     },
     "metadata": {
      "needs_background": "light"
     },
     "output_type": "display_data"
    }
   ],
   "source": [
    "#画图\n",
    "\n",
    "import pylab\n",
    "\n",
    "pylab.plot(np.arange(len(loss_list)), loss_list, label='train loss')\n",
    "pylab.plot(np.arange(len(error_list)), error_list, label='test mse')\n",
    "    \n",
    "pylab.xlabel('epochs')\n",
    "pylab.ylabel('train loss and test error')\n",
    "pylab.legend(loc='lower right')\n",
    "\n",
    "pylab.show()"
   ]
  }
 ],
 "metadata": {
  "kernelspec": {
   "display_name": "Python 3",
   "language": "python",
   "name": "python3"
  },
  "language_info": {
   "codemirror_mode": {
    "name": "ipython",
    "version": 3
   },
   "file_extension": ".py",
   "mimetype": "text/x-python",
   "name": "python",
   "nbconvert_exporter": "python",
   "pygments_lexer": "ipython3",
   "version": "3.6.5"
  }
 },
 "nbformat": 4,
 "nbformat_minor": 2
}
